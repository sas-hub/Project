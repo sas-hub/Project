{
 "cells": [
  {
   "cell_type": "code",
   "execution_count": null,
   "metadata": {},
   "outputs": [],
   "source": [
    "dflin = df[['suicides/100k pop','gdp_per_capita ($)','HDI']]\n",
    "dflin =dflin.dropna()\n",
    "dflin = dflin.sample(frac=1)\n",
    "print(dflin.shape)\n",
    "x = dflin[['gdp_per_capita ($)']]\n",
    "print(x.dtypes)\n",
    "y = dflin['suicides/100k pop']\n",
    "x_train, x_test, y_train, y_test = sk.train_test_split(x, y, \n",
    "                                                    train_size=0.7, \n",
    "                                                    random_state=42)"
   ]
  },
  {
   "cell_type": "code",
   "execution_count": null,
   "metadata": {},
   "outputs": [],
   "source": [
    "dflin2 = df[['suicides/100k pop','gdp_per_capita ($)']]\n",
    "dflin2 =dflin2.dropna()\n",
    "dflin2 = dflin2.sample(frac=1)\n",
    "print(dflin2.shape)\n",
    "x2 = dflin2[['gdp_per_capita ($)']]\n",
    "print(x2.dtypes)\n",
    "y2= dflin2['suicides/100k pop']\n",
    "x2_train, x2_test, y2_train, y2_test = sk.train_test_split(x2, y2, \n",
    "                                                    train_size=0.7, \n",
    "                                                    random_state=42)"
   ]
  },
  {
   "cell_type": "code",
   "execution_count": null,
   "metadata": {},
   "outputs": [],
   "source": [
    "regr2 = linear_model.LinearRegression()\n",
    "lm2 = regr2.fit(x2_train,y2_train)\n",
    "y2_pred = regr2.predict(x2_test)"
   ]
  },
  {
   "cell_type": "code",
   "execution_count": null,
   "metadata": {},
   "outputs": [],
   "source": [
    "# code use from scikit- learn\n",
    "# The coefficients\n",
    "print('Coefficients: \\n', regr2.coef_)\n",
    "# The intercept \n",
    "print( 'Intercept :\\n' , regr2.intercept_)\n",
    "# The mean squared error\n",
    "print('Mean squared error: %.2f'\n",
    "      % mean_squared_error(y2_test, y2_pred))\n",
    "# The coefficient of determination: 1 is perfect  \n",
    "print('Coefficient of determination: %.2f'\n",
    "      % r2_score(y2_test, y2_pred))"
   ]
  },
  {
   "cell_type": "code",
   "execution_count": null,
   "metadata": {},
   "outputs": [],
   "source": [
    "plt.scatter(x2_test, y2_test,  color='black')\n",
    "plt.plot(x2_test, y2_pred, color='blue', linewidth=3)\n",
    "\n",
    "plt.xticks(())\n",
    "plt.yticks(())\n",
    "\n",
    "plt.show()"
   ]
  },
  {
   "cell_type": "code",
   "execution_count": null,
   "metadata": {},
   "outputs": [],
   "source": []
  },
  {
   "cell_type": "code",
   "execution_count": null,
   "metadata": {},
   "outputs": [],
   "source": [
    "dflin3 = df[['suicides/100k pop','HDI']]\n",
    "dflin3 =dflin3.dropna()\n",
    "dflin3 = dflin3.sample(frac=1)\n",
    "print(dflin3.shape)\n",
    "x3 = dflin3[['HDI']]\n",
    "print(x3.dtypes)\n",
    "y3 = dflin3['suicides/100k pop']\n",
    "x3_train, x3_test, y3_train, y3_test = sk.train_test_split(x3, y3, \n",
    "                                                    train_size=0.7, \n",
    "                                                    random_state=42)"
   ]
  },
  {
   "cell_type": "code",
   "execution_count": null,
   "metadata": {},
   "outputs": [],
   "source": [
    "regr3 = linear_model.LinearRegression()\n",
    "lm3 = regr3.fit(x3_train,y3_train)\n",
    "y3_pred = regr3.predict(x3_test)"
   ]
  },
  {
   "cell_type": "code",
   "execution_count": null,
   "metadata": {},
   "outputs": [],
   "source": [
    "# code use from scikit- learn\n",
    "# The coefficients\n",
    "print('Coefficients: \\n', regr3.coef_)\n",
    "# The intercept \n",
    "print( 'Intercept :\\n' , regr3.intercept_)\n",
    "# The mean squared error\n",
    "print('Mean squared error: %.2f'\n",
    "      % mean_squared_error(y3_test, y3_pred))\n",
    "# The coefficient of determination: 1 is perfect prediction\n",
    "print('Coefficient of determination: %.2f'\n",
    "      % r2_score(y3_test, y3_pred))"
   ]
  },
  {
   "cell_type": "code",
   "execution_count": null,
   "metadata": {},
   "outputs": [],
   "source": [
    "plt.scatter(x3_test, y3_test,  color='black')\n",
    "plt.plot(x3_test, y3_pred, color='blue', linewidth=3)\n",
    "\n",
    "plt.xticks(())\n",
    "plt.yticks(())\n",
    "\n",
    "plt.show()\n",
    "\n"
   ]
  },
  {
   "cell_type": "code",
   "execution_count": null,
   "metadata": {},
   "outputs": [],
   "source": []
  },
  {
   "cell_type": "code",
   "execution_count": null,
   "metadata": {},
   "outputs": [],
   "source": [
    "#using training data to split results\n",
    "\n",
    "# sui_rates_gdp_lin= df[['suicides/100k pop','gdp_per_capita ($)','country']]\n",
    "# for i in countries:\n",
    "#     single_country= sui_rates_gdp_lin[sui_rates_gdp_lin.country == i ]\n",
    "#     #single_country = single_country.dropna()\n",
    "#     #single_country = single_country.sample(frac=1)\n",
    "#     print(i)\n",
    "#     print(single_country.shape)\n",
    "#     x = single_country[['gdp_per_capita ($)']]\n",
    "#     print(x.shape)\n",
    "#     y = single_country['suicides/100k pop']\n",
    "#     print(y.shape)\n",
    "#     x_train, x_test, y_train, y_test = sk.train_test_split(x, y, \n",
    "#                                                     test_size=0.2)\n",
    "#     print(x_train.shape)\n",
    "#     print(y_train.shape)\n",
    "#     print(x_test.shape)\n",
    "#     print(y_test.shape)\n",
    "    \n",
    "#     regr = linear_model.LinearRegression()\n",
    "#     lm = regr.fit(x_train,y_train)\n",
    "#     y_pred = regr.predict(x_test)\n",
    "    \n",
    "    \n",
    "#     # code use from scikit- learn\n",
    "#     # The coefficients\n",
    "#     print('Coefficients: \\n', regr.coef_)\n",
    "#     # The intercept \n",
    "#     print( 'Intercept :\\n' , regr.intercept_)\n",
    "#     # The mean squared error\n",
    "#     print('Mean squared error: %.2f'\n",
    "#       % mean_squared_error(y_test, y_pred))\n",
    "#     # The coefficient of determination: 1 is perfect prediction\n",
    "#     print('Coefficient of determination: %.3f'\n",
    "#       % r2_score(y_test, y_pred))\n",
    "    \n",
    "#     plt.scatter(x_test, y_test,  color='black')\n",
    "#     plt.plot(x_test, y_pred, color='blue', linewidth=3)\n",
    "\n",
    "#     plt.xticks(())\n",
    "#     plt.yticks(())\n",
    "\n",
    "    \n",
    "#     plt.title(i)\n",
    "#     plt.show()\n",
    "    "
   ]
  },
  {
   "cell_type": "code",
   "execution_count": null,
   "metadata": {},
   "outputs": [],
   "source": []
  },
  {
   "cell_type": "code",
   "execution_count": null,
   "metadata": {},
   "outputs": [],
   "source": [
    "#         regr = linear_model.LinearRegression()\n",
    "#         lm = regr.fit(x_train,y_train)\n",
    "#         y_pred = regr.predict(x_test)\n",
    "\n",
    "\n",
    "#         # code use from scikit- learn\n",
    "#         # The coefficients\n",
    "#         print('Coefficients: \\n', regr.coef_)\n",
    "#         # The intercept \n",
    "#         print( 'Intercept :\\n' , regr.intercept_)\n",
    "#         # The mean squared error\n",
    "#         print('Mean squared error: %.2f'\n",
    "#           % mean_squared_error(y_test, y_pred))\n",
    "#         # The coefficient of determination: 1 is perfect prediction\n",
    "#         print('Coefficient of determination: %.2f'\n",
    "#           % r2_score(y_test, y_pred))\n",
    "\n",
    "#         plt.scatter(x_test, y_test,  color='black')\n",
    "#         plt.plot(x_test, y_pred, color='blue', linewidth=3)\n",
    "\n",
    "#         plt.xticks(())\n",
    "#         plt.yticks(())\n",
    "\n",
    "\n",
    "#         plt.title(i)\n",
    "#         plt.show()"
   ]
  },
  {
   "cell_type": "code",
   "execution_count": null,
   "metadata": {},
   "outputs": [],
   "source": []
  },
  {
   "cell_type": "code",
   "execution_count": null,
   "metadata": {},
   "outputs": [],
   "source": [
    "sui_rates_gdp_lin= df[['suicides/100k pop','HDI','country']]\n",
    "sui_rates_gdp_lin.head()"
   ]
  },
  {
   "cell_type": "code",
   "execution_count": null,
   "metadata": {},
   "outputs": [],
   "source": []
  },
  {
   "cell_type": "code",
   "execution_count": null,
   "metadata": {},
   "outputs": [],
   "source": [
    "sui_rates_gdp_lin= df[['suicides/100k pop','HDI','country']]\n",
    "sui_rates_gdp_lin.head()\n",
    "sui_rates_gdp_lin.dropna()\n",
    "= sui_rates_gdp[sui_rates_gdp.country == 'Albania' ]"
   ]
  },
  {
   "cell_type": "code",
   "execution_count": null,
   "metadata": {},
   "outputs": [],
   "source": []
  },
  {
   "cell_type": "code",
   "execution_count": null,
   "metadata": {},
   "outputs": [],
   "source": [
    "country_years = df[['country','year']].drop_duplicates()\n",
    "count_years = country_years.groupby(['country']).count()['year'].reset_index()\n",
    "print(count_years)"
   ]
  },
  {
   "cell_type": "code",
   "execution_count": null,
   "metadata": {},
   "outputs": [],
   "source": []
  },
  {
   "cell_type": "code",
   "execution_count": null,
   "metadata": {},
   "outputs": [],
   "source": [
    "count_years['year'] <= 10\n",
    "print(count_years.loc[[6,29,36,43]])\n",
    "remove_years = ['Bosnia and Herzegovina','Montenegro','San Marino','Turkey']"
   ]
  },
  {
   "cell_type": "code",
   "execution_count": null,
   "metadata": {},
   "outputs": [],
   "source": []
  },
  {
   "cell_type": "code",
   "execution_count": null,
   "metadata": {},
   "outputs": [],
   "source": [
    "df2 = df[~df['country'].isin(remove_years)]"
   ]
  },
  {
   "cell_type": "code",
   "execution_count": null,
   "metadata": {},
   "outputs": [],
   "source": [
    "df2['country'].unique()"
   ]
  },
  {
   "cell_type": "code",
   "execution_count": null,
   "metadata": {},
   "outputs": [],
   "source": []
  },
  {
   "cell_type": "code",
   "execution_count": null,
   "metadata": {},
   "outputs": [],
   "source": [
    "dflinl2 = df2[['suicides/100k pop','gdp_per_capita ($)']]\n",
    "dflinl2 =dflinl2.dropna()\n",
    "dflinl2 = dflinl2.loc[~(dflinl2==0).all(axis=1)]\n",
    "dflinl2['logsuicides/100k pop'] = np.log(dflinl2['suicides/100k pop'])\n",
    "dflinl2 = dflinl2.replace([np.inf, -np.inf], np.nan)\n",
    "dflinl2 =dflinl2.dropna()\n",
    "dflinl2 = dflinl2.loc[~(dflinl2==0).all(axis=1)]\n",
    "dflinl2 = dflinl2.sample(frac=1)\n",
    "print(dflinl2.shape)\n",
    "x2 = dflinl2[['gdp_per_capita ($)']]\n",
    "print(x2.dtypes)\n",
    "y2= dflinl2['suicides/100k pop']\n",
    "x2_train, x2_test, y2_train, y2_test = sk.train_test_split(x2, y2, \n",
    "                                                    train_size=0.7, \n",
    "                                                    random_state=42)\n",
    "regrl2 = linear_model.LinearRegression()\n",
    "lml2 = regrl2.fit(x2_train,y2_train)\n",
    "y2_pred = regrl2.predict(x2_test)\n",
    "\n",
    "# code use from scikit- learn\n",
    "# The coefficients\n",
    "print('Coefficients: \\n', regrl2.coef_)\n",
    "# The intercept \n",
    "print( 'Intercept :\\n' , regrl2.intercept_)\n",
    "# The mean squared error\n",
    "print('Mean squared error: %.2f'\n",
    "      % mean_squared_error(y2_test, y2_pred))\n",
    "# The coefficient of determination: 1 is perfect prediction\n",
    "print('Coefficient of determination: %.2f'\n",
    "      % r2_score(y2_test, y2_pred))\n",
    "\n",
    "plt.scatter(x2_test, y2_test,  color='black')\n",
    "plt.plot(x2_test, y2_pred, color='blue', linewidth=3)\n",
    "\n",
    "plt.xticks(())\n",
    "plt.yticks(())\n",
    "\n",
    "plt.show()"
   ]
  },
  {
   "cell_type": "code",
   "execution_count": null,
   "metadata": {},
   "outputs": [],
   "source": []
  },
  {
   "cell_type": "code",
   "execution_count": null,
   "metadata": {},
   "outputs": [],
   "source": [
    "dflist = dflinl2['logsuicides/100k pop'].tolist()\n",
    "print(dflist)\n",
    "for i in dflist:\n",
    "    if i == 0:\n",
    "        print(i)"
   ]
  },
  {
   "cell_type": "code",
   "execution_count": null,
   "metadata": {},
   "outputs": [],
   "source": [
    "dflist = dflinl2['suicides/100k pop'].tolist()\n",
    "print(dflist)\n",
    "for i in dflist:\n",
    "    if i == 0:\n",
    "        print(i)"
   ]
  },
  {
   "cell_type": "code",
   "execution_count": null,
   "metadata": {},
   "outputs": [],
   "source": []
  },
  {
   "cell_type": "code",
   "execution_count": null,
   "metadata": {},
   "outputs": [],
   "source": []
  },
  {
   "cell_type": "code",
   "execution_count": null,
   "metadata": {},
   "outputs": [],
   "source": []
  },
  {
   "cell_type": "code",
   "execution_count": null,
   "metadata": {},
   "outputs": [],
   "source": [
    "### double check this code\n",
    "\n",
    "#Boxplot of the rates of suicide over time period 1985-2015\n",
    "sns.catplot(data=df,x='suicides/100k pop'\n",
    "             ,col='country',hue='sex',col_wrap=4, height=5,kind=\"box\")\n",
    "plt.show()"
   ]
  },
  {
   "cell_type": "code",
   "execution_count": null,
   "metadata": {},
   "outputs": [],
   "source": [
    "### double check this code\n",
    "\n",
    "#Plotting the average suicide rate for each country in relation to gdp per capita\n",
    "sui_rates_gdp=df.groupby(['country','gdp_per_capita ($)']).mean()['suicides/100k pop'].reset_index()\n",
    "sui_rates_relpot = sns.relplot(data = sui_rates_gdp, x= 'gdp_per_capita ($)', y='suicides/100k pop', col='country',col_wrap=4,height=5, kind=\"line\")\n",
    "#sui_rates_relpot.set(xticks=[i for i in range(0, max(df['gdp_per_capita ($)']) + 50, 50)],\n",
    "       #yticks=[i for i in range(0, max(df['suicides/100k pop']) + 500, 500)])\n",
    "    #\n",
    "plt.show()\n",
    "\n",
    "#trying to find a way to change my code so the axis of each graph changes dynamically to match the data"
   ]
  },
  {
   "cell_type": "code",
   "execution_count": null,
   "metadata": {},
   "outputs": [],
   "source": []
  },
  {
   "cell_type": "code",
   "execution_count": null,
   "metadata": {},
   "outputs": [],
   "source": [
    "#plot of average number of suicides for each year in every country over time in relation to gdp_per_capita\n",
    "sui_no_gdp=df.groupby(['country','gdp_per_capita ($)']).mean()['suicides_no'].reset_index()\n",
    "for i in countries:\n",
    "    single_country= sui_no_gdp[sui_no_gdp.country == i ]\n",
    "    single_country.plot(x='gdp_per_capita ($)',y= 'suicides_no',figsize=(10,7), linewidth=1.5, fontsize=13,color='red')\n",
    "    plt.xlabel('gdp_per_capita ($)', fontsize=12)\n",
    "    plt.ylabel('suicides_no',fontsize=12)\n",
    "    plt.title(i)\n",
    "    plt.show()"
   ]
  },
  {
   "cell_type": "code",
   "execution_count": null,
   "metadata": {},
   "outputs": [],
   "source": [
    "#plot of average number of suicides for each year in every country over time in relation to HDI\n",
    "sui_no_gdp=df.groupby(['country','HDI']).mean()['suicides_no'].reset_index()\n",
    "for i in countries:\n",
    "    single_country= sui_no_gdp[sui_no_gdp.country == i ]\n",
    "    single_country.plot(x='HDI',y= 'suicides_no',figsize=(10,7), linewidth=1.5, fontsize=13,color='red')\n",
    "    plt.xlabel('HDI', fontsize=12)\n",
    "    plt.ylabel('suicides_no',fontsize=12)\n",
    "    plt.title(i)\n",
    "    plt.show()"
   ]
  },
  {
   "cell_type": "code",
   "execution_count": null,
   "metadata": {},
   "outputs": [],
   "source": []
  },
  {
   "cell_type": "code",
   "execution_count": null,
   "metadata": {},
   "outputs": [],
   "source": [
    "#plot of average number of suicides for each year in every country over time in relation to GDP per Capita for each age group\n",
    "\n",
    "sui_no_age_gdp=df.groupby(['country','age','gdp_per_capita ($)']).mean()['suicides_no'].reset_index()\n",
    "for i in countries:\n",
    "    single_country= sui_no_age_gdp[sui_no_age_gdp.country == i ]\n",
    "    single_country = single_country.pivot(index = 'gdp_per_capita ($)', columns = 'age', values = 'suicides_no')\n",
    "    single_country.plot(figsize=(10,7), linewidth=1.5, fontsize=13)\n",
    "    plt.xlabel('gdp_per_capita ($)', fontsize=12)\n",
    "    plt.ylabel('suicides_no',fontsize=12)\n",
    "    plt.title(i)\n",
    "    plt.show()"
   ]
  },
  {
   "cell_type": "code",
   "execution_count": null,
   "metadata": {},
   "outputs": [],
   "source": [
    "# need to find a solution for skipping countries where no HDI values exist\n",
    "\n",
    "sui_no_HDI=df.groupby(['country','age','HDI']).mean()['suicides_no'].reset_index()\n",
    "for i in countries:\n",
    "    single_country= sui_no_HDI[sui_no_HDI.country == i ]\n",
    "    HDI_list = [single_country['HDI']]\n",
    "    single_country = single_country.pivot(index = 'HDI', columns = 'age', values = 'suicides_no')\n",
    "    if HDI_list== 0 :\n",
    "        print('not enough data')\n",
    "    else:\n",
    "        single_country.plot(figsize=(10,7), linewidth=1.5, fontsize=13)\n",
    "        plt.xlabel('HDI', fontsize=12)\n",
    "        plt.ylabel('suicides_no',fontsize=12)\n",
    "        plt.title(i)\n",
    "        plt.show()"
   ]
  }
 ],
 "metadata": {
  "kernelspec": {
   "display_name": "Python 3",
   "language": "python",
   "name": "python3"
  },
  "language_info": {
   "codemirror_mode": {
    "name": "ipython",
    "version": 3
   },
   "file_extension": ".py",
   "mimetype": "text/x-python",
   "name": "python",
   "nbconvert_exporter": "python",
   "pygments_lexer": "ipython3",
   "version": "3.8.3"
  }
 },
 "nbformat": 4,
 "nbformat_minor": 4
}
